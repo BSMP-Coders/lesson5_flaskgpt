{
 "cells": [
  {
   "cell_type": "markdown",
   "metadata": {},
   "source": [
    "# Flask Server"
   ]
  },
  {
   "cell_type": "code",
   "execution_count": 1,
   "metadata": {},
   "outputs": [],
   "source": [
    "# This is the route that shows the form the user asks a question on\n",
    "from flask import Flask, render_template, request\n",
    "import random\n",
    "\n",
    "#app = Flask(__name__)  # create the Flask app\n",
    "app = Flask(__name__,template_folder='templates',static_folder='static')\n"
   ]
  },
  {
   "cell_type": "code",
   "execution_count": 2,
   "metadata": {},
   "outputs": [],
   "source": [
    "@app.route('/status', methods=['GET'])\n",
    "def a_live():\n",
    "    return \"Alive!\""
   ]
  },
  {
   "cell_type": "code",
   "execution_count": 3,
   "metadata": {},
   "outputs": [],
   "source": [
    "@app.route('/predict', methods=['GET'])\n",
    "def predict():\n",
    "    demo=random.randint(2000, 5000)    \n",
    "    return str(demo)"
   ]
  },
  {
   "cell_type": "code",
   "execution_count": 4,
   "metadata": {},
   "outputs": [],
   "source": [
    "#app.run(port=5000)  # run app in debug mode on port 5000"
   ]
  },
  {
   "cell_type": "code",
   "execution_count": null,
   "metadata": {},
   "outputs": [],
   "source": []
  },
  {
   "cell_type": "code",
   "execution_count": 5,
   "metadata": {},
   "outputs": [],
   "source": [
    "import dotenv, os\n",
    "import openai\n",
    "dotenv.load_dotenv()\n",
    "\n",
    "endpoint = os.environ[\"AZURE_OPENAI_ENDPOINT\"]\n",
    "api_key = os.environ[\"AZURE_OPENAI_API_KEY\"]\n",
    "client = openai.AzureOpenAI(azure_endpoint=endpoint,api_key=api_key,api_version=\"2023-09-01-preview\")\n",
    "deployment = \"gpt-35-turbo\"\n",
    "MODEL_NAME= \"gpt-35-turbo\""
   ]
  },
  {
   "cell_type": "code",
   "execution_count": 6,
   "metadata": {},
   "outputs": [],
   "source": [
    "# PUT YOUR CODE FOR GETTING YOUR AI ANSWER INSIDE THIS FUNCTION\n",
    "def get_response(question):\n",
    "   \n",
    "  # \n",
    "  # AI CODE GOES IN HERE\n",
    "  #\n",
    "\n",
    "  SYSTEM_MESSAGE = \"You are a helpful assistant.\"\n",
    "\n",
    "\n",
    "  # What question do you want to ask?\n",
    "  #question = \"What is the capital of France?\"\n",
    "\n",
    "  # Create the message history\n",
    "  messages=[\n",
    "      {\"role\": \"system\", \"content\": SYSTEM_MESSAGE},\n",
    "      {\"role\": \"user\", \"content\": question},\n",
    "  ]\n",
    "\n",
    "  # Get the answer using the GPT model (create 1 answer (n) and use a temperature of 0.7 to set it to be pretty creative/random)\n",
    "  response = client.chat.completions.create(model=MODEL_NAME,temperature=0.7,n=1,messages=messages)\n",
    "  answer = response.choices[0].message.content\n",
    "  print(answer)\n",
    "\n",
    "  return answer"
   ]
  },
  {
   "cell_type": "code",
   "execution_count": 7,
   "metadata": {},
   "outputs": [],
   "source": [
    "# This is the route that shows the form the user asks a question on\n",
    "#from flask import Flask, render_template, request\n",
    "\n",
    "@app.get('/test-ai')\n",
    "def test_ai():\n",
    "    # Very basic form that sends a question to the /contextless-message endpoint\n",
    "    return \"\"\"\n",
    "    <h1>Ask a question!</h1>\n",
    "    <form method=\"post\" action=\"/test-ai\">\n",
    "        <textarea name=\"question\" placeholder=\"Ask a question\"></textarea>\n",
    "        <button type=\"submit\">Ask</button\n",
    "    </form>\n",
    "    \"\"\"\n",
    "\n",
    "# This is the route that the form sends the question to and sends back the response\n",
    "@app.route(\"/test-ai\", methods=[\"POST\"])\n",
    "def ask_response():\n",
    "    # Get the question from the form\n",
    "    question = request.form.get(\"question\")\n",
    "\n",
    "    # Return the response from the AI\n",
    "    return get_response(question)"
   ]
  },
  {
   "cell_type": "code",
   "execution_count": 11,
   "metadata": {},
   "outputs": [
    {
     "name": "stdout",
     "output_type": "stream",
     "text": [
      " * Serving Flask app '__main__'\n",
      " * Debug mode: off\n"
     ]
    },
    {
     "name": "stderr",
     "output_type": "stream",
     "text": [
      "\u001b[31m\u001b[1mWARNING: This is a development server. Do not use it in a production deployment. Use a production WSGI server instead.\u001b[0m\n",
      " * Running on http://127.0.0.1:50505\n",
      "\u001b[33mPress CTRL+C to quit\u001b[0m\n",
      "\u001b[33mPress CTRL+C to quit\u001b[0m\n",
      "127.0.0.1 - - [28/Jun/2024 17:47:14] \"GET /status?vscodeBrowserReqId=1719596834370 HTTP/1.1\" 200 -\n"
     ]
    }
   ],
   "source": [
    "#app.run(host='0.0.0.0', debug=True, port=8080)\n",
    "#app.run(port=50505)  # run app in debug mode on port 5000\n",
    "app.run(port=50505)  # run app in debug mode on port 5000"
   ]
  },
  {
   "cell_type": "code",
   "execution_count": null,
   "metadata": {},
   "outputs": [],
   "source": []
  },
  {
   "cell_type": "code",
   "execution_count": null,
   "metadata": {},
   "outputs": [],
   "source": []
  }
 ],
 "metadata": {
  "kernelspec": {
   "display_name": "Python 3",
   "language": "python",
   "name": "python3"
  },
  "language_info": {
   "codemirror_mode": {
    "name": "ipython",
    "version": 3
   },
   "file_extension": ".py",
   "mimetype": "text/x-python",
   "name": "python",
   "nbconvert_exporter": "python",
   "pygments_lexer": "ipython3",
   "version": "3.10.14"
  }
 },
 "nbformat": 4,
 "nbformat_minor": 2
}
